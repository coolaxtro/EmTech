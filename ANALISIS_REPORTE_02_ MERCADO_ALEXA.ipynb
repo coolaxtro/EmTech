{
 "cells": [
  {
   "cell_type": "code",
   "execution_count": 1,
   "id": "9d06e059-7297-4545-83cd-2e03522ad3b9",
   "metadata": {},
   "outputs": [
    {
     "data": {
      "text/html": [
       "<div>\n",
       "<style scoped>\n",
       "    .dataframe tbody tr th:only-of-type {\n",
       "        vertical-align: middle;\n",
       "    }\n",
       "\n",
       "    .dataframe tbody tr th {\n",
       "        vertical-align: top;\n",
       "    }\n",
       "\n",
       "    .dataframe thead th {\n",
       "        text-align: right;\n",
       "    }\n",
       "</style>\n",
       "<table border=\"1\" class=\"dataframe\">\n",
       "  <thead>\n",
       "    <tr style=\"text-align: right;\">\n",
       "      <th></th>\n",
       "      <th>register_id</th>\n",
       "      <th>direction</th>\n",
       "      <th>origin</th>\n",
       "      <th>destination</th>\n",
       "      <th>year</th>\n",
       "      <th>date</th>\n",
       "      <th>product</th>\n",
       "      <th>transport_mode</th>\n",
       "      <th>company_name</th>\n",
       "      <th>total_value</th>\n",
       "    </tr>\n",
       "  </thead>\n",
       "  <tbody>\n",
       "    <tr>\n",
       "      <th>0</th>\n",
       "      <td>1</td>\n",
       "      <td>Exports</td>\n",
       "      <td>Japan</td>\n",
       "      <td>China</td>\n",
       "      <td>2015</td>\n",
       "      <td>2015-01-31</td>\n",
       "      <td>Cars</td>\n",
       "      <td>Sea</td>\n",
       "      <td>Honda</td>\n",
       "      <td>33000000</td>\n",
       "    </tr>\n",
       "    <tr>\n",
       "      <th>1</th>\n",
       "      <td>2</td>\n",
       "      <td>Exports</td>\n",
       "      <td>Japan</td>\n",
       "      <td>China</td>\n",
       "      <td>2015</td>\n",
       "      <td>2015-01-02</td>\n",
       "      <td>Cars</td>\n",
       "      <td>Sea</td>\n",
       "      <td>Honda</td>\n",
       "      <td>16000000</td>\n",
       "    </tr>\n",
       "    <tr>\n",
       "      <th>2</th>\n",
       "      <td>3</td>\n",
       "      <td>Exports</td>\n",
       "      <td>Japan</td>\n",
       "      <td>China</td>\n",
       "      <td>2015</td>\n",
       "      <td>2015-02-02</td>\n",
       "      <td>Cars</td>\n",
       "      <td>Sea</td>\n",
       "      <td>Honda</td>\n",
       "      <td>29000000</td>\n",
       "    </tr>\n",
       "    <tr>\n",
       "      <th>3</th>\n",
       "      <td>4</td>\n",
       "      <td>Exports</td>\n",
       "      <td>Japan</td>\n",
       "      <td>China</td>\n",
       "      <td>2015</td>\n",
       "      <td>2015-03-02</td>\n",
       "      <td>Cars</td>\n",
       "      <td>Sea</td>\n",
       "      <td>Honda</td>\n",
       "      <td>14000000</td>\n",
       "    </tr>\n",
       "    <tr>\n",
       "      <th>4</th>\n",
       "      <td>5</td>\n",
       "      <td>Exports</td>\n",
       "      <td>Japan</td>\n",
       "      <td>China</td>\n",
       "      <td>2015</td>\n",
       "      <td>2015-04-02</td>\n",
       "      <td>Cars</td>\n",
       "      <td>Sea</td>\n",
       "      <td>Honda</td>\n",
       "      <td>17000000</td>\n",
       "    </tr>\n",
       "  </tbody>\n",
       "</table>\n",
       "</div>"
      ],
      "text/plain": [
       "   register_id direction origin destination  year       date product  \\\n",
       "0            1   Exports  Japan       China  2015 2015-01-31    Cars   \n",
       "1            2   Exports  Japan       China  2015 2015-01-02    Cars   \n",
       "2            3   Exports  Japan       China  2015 2015-02-02    Cars   \n",
       "3            4   Exports  Japan       China  2015 2015-03-02    Cars   \n",
       "4            5   Exports  Japan       China  2015 2015-04-02    Cars   \n",
       "\n",
       "  transport_mode company_name  total_value  \n",
       "0            Sea        Honda     33000000  \n",
       "1            Sea        Honda     16000000  \n",
       "2            Sea        Honda     29000000  \n",
       "3            Sea        Honda     14000000  \n",
       "4            Sea        Honda     17000000  "
      ]
     },
     "execution_count": 1,
     "metadata": {},
     "output_type": "execute_result"
    }
   ],
   "source": [
    "#Importación de módulos\n",
    "import pandas as pd\n",
    "import seaborn as sns\n",
    "import matplotlib.pyplot as plt\n",
    "\n",
    "#Lectura del archivo .csv y conversión a df\n",
    "file='synergy_logistics_database.csv'\n",
    "df=pd.read_csv(file)\n",
    "\n",
    "df['date']= pd.to_datetime(df['date'])\n",
    "df.head()\n"
   ]
  },
  {
   "cell_type": "code",
   "execution_count": 2,
   "id": "a2fa495c-f647-404a-b310-97e42db3a105",
   "metadata": {},
   "outputs": [],
   "source": [
    "#creación de un diccionario que busca la lista única en todo el dataframe introducido y cuenta las recurrencias\n",
    "def ExpImpDict(DF,ListaExpImp):\n",
    "    dictExp={}\n",
    "    for countries in ListaExpImp: \n",
    "        A=DF.loc[(DF['origin'] == countries[0])&(DF['destination'] == countries[1])&(DF['transport_mode'] == countries[2])]\n",
    "        count_row = A.shape[0]\n",
    "        dictExp[countries[0],countries[1],countries[2]]=count_row\n",
    "    return(dictExp)"
   ]
  },
  {
   "cell_type": "code",
   "execution_count": 3,
   "id": "df9c2cb4-8e26-493f-bf77-5f1a81b8c0a3",
   "metadata": {},
   "outputs": [],
   "source": [
    "#creación de un diccionario que busca la lista única en todo el dataframe introducido y cuenta las ganancias\n",
    "def TransportDict(DF,ListaTransport):\n",
    "    DF['total_value']=DF['total_value'].astype(int)\n",
    "    dictExp={}\n",
    "    for transport_mode in ListaTransport:\n",
    "        suma=0\n",
    "        A=DF.loc[(DF['transport_mode'] == transport_mode[0])]\n",
    "        suma = A['total_value'].sum()\n",
    "        dictExp[transport_mode[0]]=suma\n",
    "    return(dictExp)"
   ]
  },
  {
   "cell_type": "code",
   "execution_count": 4,
   "id": "ac05293e-df29-4bb1-ad93-06829ed2474b",
   "metadata": {},
   "outputs": [],
   "source": [
    "#Identificación de los países que aportan el 80% de ganancias\n",
    "def paises80(DF,Lista):\n",
    "    Total=DF['total_value'].sum() #se encuentra la suma total de todas las importaciones y exportaciones\n",
    "    Total80=Total*0.8           #se encuentran el valor del 80% de las ganancias\n",
    "    \n",
    "    countries=[]                  #se inicializan variables\n",
    "    topcountries=[]\n",
    "    sumatotal=0\n",
    "    \n",
    "    for pais in Lista:            #se encuentran las ganancias de cada país de origen\n",
    "        suma=0\n",
    "        A=DF.loc[(DF['origin'] == pais[0])]\n",
    "        suma=A['total_value'].sum()\n",
    "        countries.append([pais[0],suma])\n",
    "    \n",
    "    countries.sort(reverse=True, key=lambda x: x[1]) #se organizan los países de mayor a menor ganancias\n",
    "    \n",
    "    for pais in countries:        #se encuentran los países que proveen aproximadamente el 80% de ganancias\n",
    "        if sumatotal<=Total80:\n",
    "            sumatotal=sumatotal+pais[1]\n",
    "            topcountries.append([pais[0],pais[1],sumatotal])\n",
    "        else: break\n",
    "    return(topcountries)"
   ]
  },
  {
   "cell_type": "code",
   "execution_count": 5,
   "id": "60005181-3134-4c18-b56a-a5dd40d3aed2",
   "metadata": {},
   "outputs": [],
   "source": [
    "#Sorteo de las 10 mayores rutas de exportación e importación\n",
    "def sorteo(Diccionario, num):\n",
    "    Sort=sorted(Diccionario.items(), key=lambda x:x[1], reverse=True)[:num]\n",
    "    return(Sort)"
   ]
  },
  {
   "cell_type": "code",
   "execution_count": 6,
   "id": "d6db092b-5964-4983-bdaa-6cb27944aedf",
   "metadata": {},
   "outputs": [],
   "source": [
    "#Identificación de Exportaciones e Importaciones\n",
    "TotExp=df.loc[df['direction'] == 'Exports']\n",
    "TotImp=df.loc[df['direction'] == 'Imports']"
   ]
  },
  {
   "cell_type": "code",
   "execution_count": 7,
   "id": "00f00b3b-55a9-4271-8e27-078d45cc33e8",
   "metadata": {},
   "outputs": [],
   "source": [
    "#Generación de listas con los valores únicos encontrados de pares origen/destino\n",
    "UnExp=TotExp.drop_duplicates(subset=['origin','destination','transport_mode'])   #Parámetros discriminantes: origen y destino\n",
    "ODExp=UnExp.drop(UnExp.columns[[0,1,4,5,6,8,9]], axis=1)      #Eliminación de columnas que no sean ni origen ni destino\n",
    "ListaExp = ODExp.values.tolist()                                #Generación de una lista de listas con los pares únicos origen/destino\n",
    "\n",
    "UnImp=TotImp.drop_duplicates(subset=['origin','destination','transport_mode'])\n",
    "ODImp=UnImp.drop(UnImp.columns[[0,1,4,5,6,8,9]], axis=1)\n",
    "ListaImp = ODImp.values.tolist()\n",
    "\n",
    "Trans=df\n",
    "VTIE=df\n",
    "\n",
    "#Generación de lista con los valores únicos encontrados de modos de transporte\n",
    "UnTrans=Trans.drop_duplicates(subset=['transport_mode'])\n",
    "ODTrans=UnTrans.drop(UnTrans.columns[[0,1,2,3,4,5,6,8,9]], axis=1)\n",
    "ListaTrans=ODTrans.values.tolist()\n",
    "\n",
    "#Generación de lista con los valores únicos encontrados de países tanto exportadores como importadores\n",
    "UnVTIE=VTIE.drop_duplicates(subset=['origin'])\n",
    "ODVTIE=UnVTIE.drop(UnVTIE.columns[[0,1,3,4,5,6,7,8,9]], axis=1)\n",
    "ListaVTIE=ODVTIE.values.tolist()"
   ]
  },
  {
   "cell_type": "code",
   "execution_count": 8,
   "id": "cffbb5f1-72e5-470d-9b53-2dca40e4199b",
   "metadata": {},
   "outputs": [],
   "source": [
    "#Creación de los diccionarios de exportación/importación y transporte\n",
    "DictExp=ExpImpDict(TotExp,ListaExp)\n",
    "DictImp=ExpImpDict(TotImp,ListaImp)\n",
    "DictTrans=TransportDict(Trans,ListaTrans)"
   ]
  },
  {
   "cell_type": "code",
   "execution_count": 9,
   "id": "776ee48d-3110-453d-a34d-153593b2d428",
   "metadata": {},
   "outputs": [],
   "source": [
    "#Sorteo de las  rutas de exportación e importación y de transporte\n",
    "Top10Exp=sorteo(DictExp, len(DictExp))\n",
    "Top10Expdf =pd.DataFrame(Top10Exp, columns =['Ruta','cuenta'])\n",
    "\n",
    "Top10Imp=sorteo(DictImp, len(DictImp))\n",
    "Top10Impdf =pd.DataFrame(Top10Imp, columns =['Ruta','cuenta'])\n",
    "\n",
    "Top3Trans=sorteo(DictTrans, len(DictTrans))\n",
    "Top3Transdf=pd.DataFrame(Top3Trans,columns =['Medio','Ganancia'])\n",
    "\n",
    "#Búsqueda de los países que conforman aproximadamente el 80% de valor de exportaciones e importaciones\n",
    "Top80=paises80(VTIE,ListaVTIE)\n",
    "Top80df=pd.DataFrame(Top80,columns =['País','Ganancia','Ganancia acumulativa'])\n",
    "Porcentaje=Top80[-1][2]*100/VTIE['total_value'].sum()"
   ]
  },
  {
   "cell_type": "raw",
   "id": "73f7190c-a958-48ea-bf17-6ac4e139832e",
   "metadata": {},
   "source": [
    "\"\"\"\n",
    "#Impresión de valores\n",
    "print(\"Las rutas de exportación son: \")\n",
    "counter=0\n",
    "\n",
    "for i in Top10Exp:\n",
    "    counter+=1\n",
    "    print(counter,\".-\",i[0][0],\"-\",i[0][1], \": \",i[1], \" Exportaciones por \",i[0][2])\n",
    "\n",
    "print(\"\\n\\nLas rutas de importación son: \")\n",
    "counter=0\n",
    "for i in Top10Imp:\n",
    "    counter+=1\n",
    "    print(counter,\".-\",i[0][0],\"-\",i[0][1], \": \",i[1], \" Importaciones por \",i[0][2])\n",
    "    \n",
    "print(\"\\n\\nLos medios de transporte son: \")\n",
    "counter=0\n",
    "for i in Top3Trans:\n",
    "    counter+=1\n",
    "    print(counter,\".-\",i[0],\": $\",i[1])\n",
    "    \n",
    "print(\"\\n\\nLos países que conforman el 80% de exportaciones e importaciones son: \")\n",
    "counter=0\n",
    "for i in Top80:\n",
    "    counter+=1\n",
    "    print(counter,\".-\",i[0],\": $\",i[1])\n",
    "print(\"Con un total de $\", Top80[-1][2], \"representando un \", Porcentaje, \"% de las ventas\")\n",
    "\"\"\""
   ]
  },
  {
   "cell_type": "markdown",
   "id": "52f3a403-f297-4697-98c2-d3ef780d9304",
   "metadata": {},
   "source": [
    "# Análisis de datos para Synergy Logistics"
   ]
  },
  {
   "cell_type": "markdown",
   "id": "b89ec0e3-e618-4eae-b489-3ca45f0b531d",
   "metadata": {},
   "source": [
    "## Introducción"
   ]
  },
  {
   "cell_type": "markdown",
   "id": "601515c3-ad4f-431d-9bd5-ed7d9a2b3845",
   "metadata": {},
   "source": [
    "El análisis de datos es ampliamente utilizado para la toma de decisiones en ambientes empresariales cuando se maneja una cantidad grande de información y se buscan optimizar y compactar resultados. En este caso, se nos pide realizar un análisis de datos para Synergy Logistics, una empresa de exportación e importación de bienes materiales en varios países del mundo. Se nos solicita otorgar, a partir de nuestro análisis, una guía de los pasos próximos que la empresa debería tomar.\n",
    "\n",
    "El siguiente proyecto analizará y discutirá 3 posibles opciones:\n",
    "##### Opción 1: Rutas de importación y exportación. \n",
    "Synergy logistics está considerando la posibilidad de enfocar sus esfuerzos en las 10 rutas más demandadas. Acorde a los flujos de importación y exportación, ¿cuáles son esas 10 rutas? ¿le conviene implementar esa estrategia? ¿porqué?\n",
    "##### Opción 2: Medio de transporte utilizado. \n",
    "¿Cuáles son los 3 medios de transporte más importantes para Synergy logistics considerando el valor de las importaciones y exportaciones? ¿Cuál es medio de transporte que podrían reducir?\n",
    "##### Opción 2: Valor total de importaciones y exportaciones.\n",
    "Si Synergy Logistics quisiera enfocarse en los países que le generan el 80% del valor de las exportaciones e importaciones ¿en qué grupo de países debería enfocar sus esfuerzos?"
   ]
  },
  {
   "cell_type": "markdown",
   "id": "b79beb7c-5f1d-41d9-9597-6eaa27268a43",
   "metadata": {},
   "source": [
    "## Opción 1: Rutas de importación y exportación\n",
    "Para realizar este inciso se consideraron las rutas con un origen, destino y medio de transporte únicos. Se observa que las rutas tienen una forma de exponencial decreciente.\n",
    "\n",
    "<br>Observando las 10 rutas principales de Exportación se tiene la gráfica 1. En ella se aprecia que las 10 rutas más demandadas de exportación son: \n",
    "<br>1 .- South Korea - Vietnam :    497 por Mar\n",
    "<br>2 .- USA - Netherlands :        436 por Mar\n",
    "<br>3 .- Netherlands - Belgium :    374 por Tierra\n",
    "<br>4 .- China - Mexico :           330 por Aire\n",
    "<br>5 .- Japan - Brazil :           306 por Mar\n",
    "<br>6 .- Germany - France :         299 por Tierra\n",
    "<br>7 .- South Korea - Japan :      279 por Mar\n",
    "<br>8 .- Australia - Singapore :    273 por Mar\n",
    "<br>9 .- Canada - Mexico :          261 por Tren\n",
    "<br>10 .- China - Spain :           250 por Aire\n",
    "\n",
    "<br>Se puede ver que, a pesar de que las recurrencias de exportación bajan, es aún muy significativa la cantidad de ingresos que las demás rutas no pertenecientes al Top 10 de exportaciones proveen a esta compañía. A partir del lugar 58 es cuando las exportaciones por ruta son de 100 o menos y aún así no convendría recortarlas. Por ello llevar a cabo esta opción con la parte de las exportaciones no es lo óptimo para esta empresa.\n",
    "\n",
    "<br>Analizando las 10 rutas principales de Importación se tiene la gráfica 2. En ella se aprecia que las 10 rutas más demandadas de importación son: \n",
    "<br>1 .- Singapore - Thailand :  273 por Mar\n",
    "<br>2 .- Germany - China :  233 por Mar\n",
    "<br>3 .- China - Japan :  210  por Aire\n",
    "<br>4 .- Japan - Mexico :  206 por Mar\n",
    "<br>5 .- Malaysia - Thailand :  195  por Tren\n",
    "<br>6 .- China - Thailand :  145 por Tierra\n",
    "<br>7 .- Spain - Germany :  142  por Tierra\n",
    "<br>8 .- China - United Arab Emirates :  114  por Mar\n",
    "<br>9 .- Brazil - China :  113  por Mar\n",
    "<br>10 .- USA - Thailand :  109  por Mar\n",
    "\n",
    "<br>En caso de querer focalizar rutas, se recomendaría observar cuáles son las peores 10 y de ahí decidir recortar esas rutas. Asimismo, se podría definir un número de recurrencias que una ruta debe tener en un periodo de tiempo y en caso de que no se cumpla por más de dos años seguidos, considerar eliminarla. No es viable enfocarse solamente en los Top 10 de importación ni de exportación.\n"
   ]
  },
  {
   "cell_type": "code",
   "execution_count": 10,
   "id": "dd5d1328-0190-4ae8-afd5-7e2cbc612f87",
   "metadata": {},
   "outputs": [
    {
     "data": {
      "image/png": "[encoded data removed]",
      "text/plain": [
       "<Figure size 432x288 with 1 Axes>"
      ]
     },
     "metadata": {
      "needs_background": "light"
     },
     "output_type": "display_data"
    }
   ],
   "source": [
    "graphExp=sns.barplot(data=Top10Expdf.head(10), x=\"Ruta\", y=\"cuenta\").set(title=\"Gráfica 1. Exportaciones\",xlabel=\"Ruta: Origen-Destino-Medio\",ylabel=\"Recurrencias\")\n",
    "graphExp=plt.xticks(rotation=90)"
   ]
  },
  {
   "cell_type": "code",
   "execution_count": 11,
   "id": "30fcc1f8-40c7-47e7-914e-23d2dd27e908",
   "metadata": {},
   "outputs": [
    {
     "data": {
      "image/png": "[encoded data removed]",
      "text/plain": [
       "<Figure size 432x288 with 1 Axes>"
      ]
     },
     "metadata": {
      "needs_background": "light"
     },
     "output_type": "display_data"
    }
   ],
   "source": [
    "graphImp=sns.barplot(data=Top10Impdf.head(10), x=\"Ruta\", y=\"cuenta\").set(title=\"Gráfica 2. Importaciones\",xlabel=\"Ruta: Origen-Destino-Medio\",ylabel=\"Recurrencias\")\n",
    "graphImp=plt.xticks(rotation=90)"
   ]
  },
  {
   "cell_type": "markdown",
   "id": "28a0bce1-b295-4480-9dba-219cb267b097",
   "metadata": {},
   "source": [
    "## Opción 2: Medio de transporte utilizado\n",
    "Para realizar este inciso se filtraron todos los medios de transporte proveídos en la base de datos de Synergy Logistics. Es posible observar que el medio más usado, ganando por más del doble a sus contrincates es el medio del mar. Sin embargo, enfocarse solamente en el top 3 de medios recortaría los ingresos de la empresa en casi 25% mediante el uso del tren, por lo que limitar la forma de transporte tampoco sería lo más monetariamente adecuado para Synergy Logistics."
   ]
  },
  {
   "cell_type": "code",
   "execution_count": 12,
   "id": "2a43e03e-5b9d-4cf0-b501-07c9f17c6b6c",
   "metadata": {},
   "outputs": [
    {
     "data": {
      "image/png": "[encoded data removed]",
      "text/plain": [
       "<Figure size 432x288 with 1 Axes>"
      ]
     },
     "metadata": {
      "needs_background": "light"
     },
     "output_type": "display_data"
    }
   ],
   "source": [
    "graphRuta=sns.barplot(data=Top3Transdf.head(3), x=\"Medio\", y=\"Ganancia\").set(title=\"Gráfica 3. Mejores medios\")"
   ]
  },
  {
   "cell_type": "markdown",
   "id": "cff80731-236b-4b15-91b3-700fda13db70",
   "metadata": {},
   "source": [
    "## Opción 3: Valor total de importaciones y exportaciones\n",
    "Para evaluar esta opción se identificaron los países exportadores e importadores y, de las ganancias totales, se encontró los que representaban el 80%. Dentro de las 3 opciones ésta es la mejor. Permitiría enfocar los esfuerzos en rutas dominantes y proveer un mejor servicio en ellas. Las rutas secundarias podrían equilibrarse a largo plazo, compensando el 20% recortado y sería la opción que menos impacto económico tendría hacia la empresa. Los países encontrados conforman un 81.1% aproximadamente de las ganancias."
   ]
  },
  {
   "cell_type": "code",
   "execution_count": 13,
   "id": "0e298c4b-8ca8-4e85-bc35-a47ef8953377",
   "metadata": {},
   "outputs": [
    {
     "data": {
      "image/png": "[encoded data removed]",
      "text/plain": [
       "<Figure size 432x288 with 1 Axes>"
      ]
     },
     "metadata": {
      "needs_background": "light"
     },
     "output_type": "display_data"
    }
   ],
   "source": [
    "graphTop80=sns.barplot(data=Top80df, x=\"País\", y=\"Ganancia\").set(title=\"Gráfica 4. Países 80%\")\n",
    "graphTop80=plt.xticks(rotation=90)"
   ]
  },
  {
   "cell_type": "markdown",
   "id": "7f22c8c2-c03b-4fa6-8d8d-1c4594388ec2",
   "metadata": {},
   "source": [
    "## Conclusión\n",
    "A partir del análisis realizado es posible decidir satisfactoriamente que la mejor forma de proceder es enfocando la atención en el 80% de los países que más ingresos le otorguen a Synergy Logistics. Las demás opciones tienen un impacto más fuerte en el ámbito económico de la empresa y no parece que tengan una recuperación viable en un futuro próximo. Es posible conlcuir que el país más importante para Synergy Logistics es China, siendo el principal exportador y generador de ingresos a la empresa. Asimismo, un análisis más profundo podría dar más introspección al problema pero como no fue requirido como consigna, no se realizó en este reporte. Por otro lado, existen muchas formas de realizar este proyecto. Sin embargo, fue resuelto con los conocimientos actuales del data analyst, el cual mejorará todos los días."
   ]
  },
  {
   "cell_type": "markdown",
   "id": "7d1d078f-3fa8-4b8c-84a9-6849a6a67017",
   "metadata": {},
   "source": [
    "## Agradecimientos\n",
    "A Jaime y EmTech por esta oportunidad. Pythonista por siempre."
   ]
  }
 ],
 "metadata": {
  "kernelspec": {
   "display_name": "Python 3",
   "language": "python",
   "name": "python3"
  },
  "language_info": {
   "codemirror_mode": {
    "name": "ipython",
    "version": 3
   },
   "file_extension": ".py",
   "mimetype": "text/x-python",
   "name": "python",
   "nbconvert_exporter": "python",
   "pygments_lexer": "ipython3",
   "version": "3.8.8"
  }
 },
 "nbformat": 4,
 "nbformat_minor": 5
}
